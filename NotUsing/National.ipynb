{
 "cells": [
  {
   "cell_type": "code",
   "execution_count": 2,
   "id": "644492a7-92f9-4c32-933b-8a315f81c20d",
   "metadata": {},
   "outputs": [],
   "source": [
    "import pandas as pd"
   ]
  },
  {
   "cell_type": "code",
   "execution_count": 3,
   "id": "994f0d7e-2581-46d0-b267-0476f5b59e13",
   "metadata": {},
   "outputs": [],
   "source": [
    "#def make_data():\n",
    "sales = pd.read_csv(\"https://raw.githubusercontent.com/VallieTracy/opioids_project/master/Resources/opioidPrescriptionSales.csv\")\n",
    "deaths = pd.read_csv(\"https://raw.githubusercontent.com/VallieTracy/opioids_project/master/Resources/drugPoisoningDeaths.csv\")\n"
   ]
  },
  {
   "cell_type": "code",
   "execution_count": null,
   "id": "a263b826-5421-4e81-89b3-05b38aefea1f",
   "metadata": {},
   "outputs": [],
   "source": [
    "\n",
    "def make_sales():\n",
    "    sales = pd.read_csv(\"https://raw.githubusercontent.com/VallieTracy/opioids_project/master/Resources/opioidPrescriptionSales.csv\")\n",
    "    sales['Type'] = sales['Oxycodone / Hydrocodone'].str.replace('/', '')\n",
    "    #sales['Data Type'] = sales['Data Type'].str.replace('  ', '_')\n",
    "    sales = sales[[\"Fips\", \"Location\",\"TimeFrame\",\"Type\", \"Data\", ]]\n",
    "    sales= sales.query(\"TimeFrame == 2018 and Type == 'Hydrocodone'\")\n",
    "    sales = sales.groupby(\"Data\").median().reset_index()\n",
    "    #sales.query(\"TimeFrame == 2018\")\n",
    "    #return sales.query(\"TimeFrame == 2018 and Type == 'Oxycodone'\")\n",
    "    sales = sales.rename(columns={\"Data\":\"Sales Data\"})\n",
    "    return sales\n",
    "make_sales()\n"
   ]
  },
  {
   "cell_type": "code",
   "execution_count": null,
   "id": "def2b03d-ecf8-49bf-b4cb-0a0a47c8431d",
   "metadata": {},
   "outputs": [],
   "source": [
    "def make_deaths():\n",
    "    deaths = pd.read_csv(\"https://raw.githubusercontent.com/VallieTracy/opioids_project/master/Resources/drugPoisoningDeaths.csv\")\n",
    "    #sales['Type'] = sales['Oxycodone / Hydrocodone'].str.replace('/', '')\n",
    "    #sales['Data Type'] = sales['Data Type'].str.replace('  ', '_')\n",
    "    deaths = deaths[[\"Fips\", \"Location\",\"TimeFrame\",\"Drug Type\", \"Data\", ]]\n",
    "    deaths= deaths.query(\"TimeFrame == 2018\") #and 'Drug Type' == 'All opioids')\n",
    "    \n",
    "    deaths= deaths.query(\"`Drug Type` == 'All opioids'\")\n",
    "    deaths = deaths.groupby(\"Data\").median().reset_index()\n",
    "    #grouped = deaths.groupby(pd.qcut(deaths['Data'], q=10))#.reset_index()\n",
    "    #sales.query(\"TimeFrame == 2018\")\n",
    "    #return sales.query(\"TimeFrame == 2018 and Type == 'Oxycodone'\")\n",
    "    deaths = deaths.rename(columns={\"Data\":\"Deaths Data\"})\n",
    "    #grouped = grouped.rename(columns={\"Data\":\"Deaths Data\"})\n",
    "    return deaths\n",
    "make_deaths()"
   ]
  },
  {
   "cell_type": "code",
   "execution_count": 6,
   "id": "49595813-97b7-498b-be95-73e0c2610689",
   "metadata": {},
   "outputs": [],
   "source": [
    "def make_merge():\n",
    "    sales = make_sales()\n",
    "    deaths = make_deaths()\n",
    "    merged = deaths.merge(sales, on=\"Fips\")\n",
    "    \n",
    "    return merged\n",
    "make_merge()\n",
    "\n",
    "df= make_merge()\n",
    "import seaborn as sns"
   ]
  },
  {
   "cell_type": "code",
   "execution_count": 7,
   "id": "d4402265-3def-421c-bed8-5a8031634855",
   "metadata": {},
   "outputs": [
    {
     "data": {
      "text/plain": [
       "<AxesSubplot:xlabel='Sales Data', ylabel='Deaths Data'>"
      ]
     },
     "execution_count": 7,
     "metadata": {},
     "output_type": "execute_result"
    },
    {
     "data": {
      "image/png": "[encoded data removed]",
      "text/plain": [
       "<Figure size 432x288 with 1 Axes>"
      ]
     },
     "metadata": {},
     "output_type": "display_data"
    }
   ],
   "source": [
    "sns.regplot(data=df, x=\"Sales Data\", y=\"Deaths Data\")"
   ]
  },
  {
   "cell_type": "code",
   "execution_count": null,
   "id": "27ecb2d2-3234-4085-bd05-b1f0541ce8d8",
   "metadata": {},
   "outputs": [],
   "source": []
  },
  {
   "cell_type": "code",
   "execution_count": null,
   "id": "05409968-e52b-4dee-8810-99bd99d99f7e",
   "metadata": {},
   "outputs": [],
   "source": [
    "import seaborn as sns\n",
    "from sklearn.metrics import r2_score, mean_squared_error\n",
    "\n",
    "sns.set(style=\"ticks\")\n",
    "sns.lmplot(x=\"Sales Data\", y=\"Deaths Data\", data=df)\n",
    "\n",
    "# Calculate the predicted values\n",
    "predicted_values = model.predict(X)\n",
    "\n",
    "# Calculate R-squared\n",
    "r2 = r2_score(y, predicted_values)\n",
    "\n",
    "# Calculate mean squared error\n",
    "mse = mean_squared_error(y, predicted_values)\n",
    "\n",
    "print(\"R-squared:\", r2)\n",
    "print(\"MSE:\", mse)"
   ]
  },
  {
   "cell_type": "code",
   "execution_count": null,
   "id": "6c5d2c81-06ce-4525-8d3e-52c023a2f90c",
   "metadata": {},
   "outputs": [],
   "source": []
  }
 ],
 "metadata": {
  "kernelspec": {
   "display_name": "Python 3",
   "language": "python",
   "name": "python3"
  },
  "language_info": {
   "codemirror_mode": {
    "name": "ipython",
    "version": 3
   },
   "file_extension": ".py",
   "mimetype": "text/x-python",
   "name": "python",
   "nbconvert_exporter": "python",
   "pygments_lexer": "ipython3",
   "version": "3.8.8"
  }
 },
 "nbformat": 4,
 "nbformat_minor": 5
}
