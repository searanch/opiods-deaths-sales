{
 "cells": [
  {
   "cell_type": "code",
   "execution_count": 7,
   "id": "910fd2e2-dd40-4377-b0f8-4c9c80fd82ba",
   "metadata": {},
   "outputs": [
    {
     "name": "stdout",
     "output_type": "stream",
     "text": [
      "[(1, 1, 'Alabama', 'Oxycodone', 2000, 'Rate per 100,000', 6.74399, None), (2, 1, 'Alabama', 'Oxycodone', 2001, 'Rate per 100,000', 7.79399, None), (3, 1, 'Alabama', 'Oxycodone', 2002, 'Rate per 100,000', 7.80123, None)]\n",
      "[(1, 1, 'Alabama', 'Cocaine', 2000, 'Rate per 100,000', None, None), (2, 1, 'Alabama', 'Heroin', 2000, 'Rate per 100,000', None, None), (3, 1, 'Alabama', 'Natural and semi-synthetic opioids', 2000, 'Rate per 100,000', 0.59776, 0.230278563)]\n"
     ]
    }
   ],
   "source": [
    "import sqlite3\n",
    "import pandas as pd\n",
    "\n",
    "# Connect to the SQLite database\n",
    "conn = sqlite3.connect('data/opiods.db')\n",
    "\n",
    "# Create a cursor object to interact with the database\n",
    "cursor = conn.cursor()\n",
    "\n",
    "# Execute a query\n",
    "cursor.execute(\"SELECT * FROM deaths limit 3\")\n",
    "\n",
    "# Fetch the results\n",
    "death_results = cursor.fetchall()\n",
    "\n",
    "# Connect to the SQLite database\n",
    "conn = sqlite3.connect('data/opiods.db')\n",
    "\n",
    "# Create a cursor object to interact with the database\n",
    "cursor = conn.cursor()\n",
    "\n",
    "# Execute a query\n",
    "cursor.execute(\"SELECT * FROM sales limit 3\")\n",
    "\n",
    "# Fetch the results\n",
    "sales_results = cursor.fetchall()\n",
    "\n",
    "# check the db database\n",
    "\n",
    "print(sales_results)\n",
    "print(death_results)"
   ]
  },
  {
   "cell_type": "code",
   "execution_count": null,
   "id": "c7fa8834-32be-4b7d-820b-a7dddaab50c7",
   "metadata": {},
   "outputs": [],
   "source": []
  },
  {
   "cell_type": "code",
   "execution_count": null,
   "id": "38f3f3c2-a550-48db-9f8d-b100eac16cf1",
   "metadata": {},
   "outputs": [],
   "source": []
  }
 ],
 "metadata": {
  "kernelspec": {
   "display_name": "Python 3",
   "language": "python",
   "name": "python3"
  },
  "language_info": {
   "codemirror_mode": {
    "name": "ipython",
    "version": 3
   },
   "file_extension": ".py",
   "mimetype": "text/x-python",
   "name": "python",
   "nbconvert_exporter": "python",
   "pygments_lexer": "ipython3",
   "version": "3.8.8"
  }
 },
 "nbformat": 4,
 "nbformat_minor": 5
}
